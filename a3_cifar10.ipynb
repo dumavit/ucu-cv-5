{
  "nbformat": 4,
  "nbformat_minor": 0,
  "metadata": {
    "accelerator": "GPU",
    "colab": {
      "name": "a3_cifar10 (2).ipynb",
      "version": "0.3.2",
      "provenance": [],
      "collapsed_sections": [
        "Q2C1j43ia-PP",
        "j_no4Mw2a-Pc"
      ]
    },
    "kernelspec": {
      "display_name": "pytorch",
      "language": "python",
      "name": "pytorch"
    },
    "language_info": {
      "codemirror_mode": {
        "name": "ipython",
        "version": 3
      },
      "file_extension": ".py",
      "mimetype": "text/x-python",
      "name": "python",
      "nbconvert_exporter": "python",
      "pygments_lexer": "ipython3",
      "version": "3.6.8"
    }
  },
  "cells": [
    {
      "cell_type": "markdown",
      "metadata": {
        "colab_type": "text",
        "id": "U9M6mtQU1LE3"
      },
      "source": [
        "* <font color=\"red\">assignment problem</font>. The red color indicates the task that should be done\n",
        "* <font color=\"green\">debugging</font>. The green tells you what is expected outcome. Its primarily goal is to help you get the correct answer\n",
        "* <font color=\"blue\">comments, hints</font>.\n",
        "\n",
        "Assignment 3 (CNN)\n",
        "======================\n"
      ]
    },
    {
      "cell_type": "markdown",
      "metadata": {
        "colab_type": "text",
        "id": "ihXqIcXAa-PJ"
      },
      "source": [
        "**Useful References:**\n",
        "* official pytorch cifar10 tutorial\n",
        "\n",
        "\n",
        "https://pytorch.org/tutorials/beginner/blitz/cifar10_tutorial.html\n",
        "* tensorboard in colab\n",
        "\n",
        "\n",
        "https://www.tensorflow.org/tensorboard/r2/tensorboard_in_notebooks\n",
        "* tensorboard & colab\n",
        "\n",
        "\n",
        "https://colab.research.google.com/drive/1NbEqqB42VSzYt-mmb4ESc8yxL05U2TIV\n",
        "\n",
        "\n",
        "https://medium.com/looka-engineering/how-to-use-tensorboard-with-pytorch-in-google-colab-1f76a938bc34\n",
        "\n"
      ]
    },
    {
      "cell_type": "markdown",
      "metadata": {
        "colab_type": "text",
        "id": "o4lg7Ge50BEJ"
      },
      "source": [
        "## Preliminaries\n"
      ]
    },
    {
      "cell_type": "markdown",
      "metadata": {
        "colab_type": "text",
        "id": "yNFZw0o84vTh"
      },
      "source": [
        "#### Check the environment"
      ]
    },
    {
      "cell_type": "code",
      "metadata": {
        "colab_type": "code",
        "id": "ffG0xwVU4iFR",
        "outputId": "627b651d-cf47-47ff-c3cc-eacd83192d26",
        "colab": {
          "base_uri": "https://localhost:8080/",
          "height": 35
        }
      },
      "source": [
        "!pwd"
      ],
      "execution_count": 0,
      "outputs": [
        {
          "output_type": "stream",
          "text": [
            "/content\n"
          ],
          "name": "stdout"
        }
      ]
    },
    {
      "cell_type": "code",
      "metadata": {
        "colab_type": "code",
        "id": "H6g0_ZK044jV",
        "outputId": "40aa8599-b73a-4895-f614-43371e47123c",
        "colab": {
          "base_uri": "https://localhost:8080/",
          "height": 318
        }
      },
      "source": [
        "!nvidia-smi"
      ],
      "execution_count": 0,
      "outputs": [
        {
          "output_type": "stream",
          "text": [
            "Wed Aug  7 21:18:34 2019       \n",
            "+-----------------------------------------------------------------------------+\n",
            "| NVIDIA-SMI 418.67       Driver Version: 410.79       CUDA Version: 10.0     |\n",
            "|-------------------------------+----------------------+----------------------+\n",
            "| GPU  Name        Persistence-M| Bus-Id        Disp.A | Volatile Uncorr. ECC |\n",
            "| Fan  Temp  Perf  Pwr:Usage/Cap|         Memory-Usage | GPU-Util  Compute M. |\n",
            "|===============================+======================+======================|\n",
            "|   0  Tesla T4            Off  | 00000000:00:04.0 Off |                    0 |\n",
            "| N/A   43C    P8    16W /  70W |      0MiB / 15079MiB |      0%      Default |\n",
            "+-------------------------------+----------------------+----------------------+\n",
            "                                                                               \n",
            "+-----------------------------------------------------------------------------+\n",
            "| Processes:                                                       GPU Memory |\n",
            "|  GPU       PID   Type   Process name                             Usage      |\n",
            "|=============================================================================|\n",
            "|  No running processes found                                                 |\n",
            "+-----------------------------------------------------------------------------+\n"
          ],
          "name": "stdout"
        }
      ]
    },
    {
      "cell_type": "markdown",
      "metadata": {
        "colab_type": "text",
        "id": "Gexlv0j504nX"
      },
      "source": [
        "#### Install missing packages"
      ]
    },
    {
      "cell_type": "code",
      "metadata": {
        "colab_type": "code",
        "id": "iWjSgM9_0-fZ",
        "outputId": "37632e62-3eed-4964-d9e1-87e5af638884",
        "colab": {
          "base_uri": "https://localhost:8080/",
          "height": 123
        }
      },
      "source": [
        "# [colab version] latest version of tensorflow in order to use tensorboard inside the notebook\n",
        "!pip install -q tf-nightly-2.0-preview\n",
        "! pip install future"
      ],
      "execution_count": 0,
      "outputs": [
        {
          "output_type": "stream",
          "text": [
            "\u001b[K     |████████████████████████████████| 86.4MB 89.4MB/s \n",
            "\u001b[K     |████████████████████████████████| 61kB 28.2MB/s \n",
            "\u001b[K     |████████████████████████████████| 450kB 52.0MB/s \n",
            "\u001b[K     |████████████████████████████████| 4.3MB 53.4MB/s \n",
            "\u001b[?25h  Building wheel for opt-einsum (setup.py) ... \u001b[?25l\u001b[?25hdone\n",
            "Requirement already satisfied: future in /usr/local/lib/python3.6/dist-packages (0.16.0)\n"
          ],
          "name": "stdout"
        }
      ]
    },
    {
      "cell_type": "markdown",
      "metadata": {
        "colab_type": "text",
        "id": "P_Ptva0O1r27"
      },
      "source": [
        "#### Load libs, set settings"
      ]
    },
    {
      "cell_type": "code",
      "metadata": {
        "colab_type": "code",
        "id": "b7ehrL_B0V7h",
        "colab": {}
      },
      "source": [
        "import numpy as np\n",
        "import matplotlib.pyplot as plt\n",
        "\n",
        "import datetime\n",
        "\n",
        "import torch\n",
        "import torchvision\n",
        "import torchvision.models as models\n",
        "import torchvision.transforms as transforms\n",
        "\n",
        "# for tensorboard\n",
        "from torch.utils.tensorboard import SummaryWriter"
      ],
      "execution_count": 0,
      "outputs": []
    },
    {
      "cell_type": "code",
      "metadata": {
        "colab_type": "code",
        "id": "_s7-UQiz0UiA",
        "colab": {}
      },
      "source": [
        "# random seed settings\n",
        "torch.manual_seed(42)\n",
        "np.random.seed(42)"
      ],
      "execution_count": 0,
      "outputs": []
    },
    {
      "cell_type": "code",
      "metadata": {
        "colab_type": "code",
        "id": "uxuWDaI-a-PK",
        "colab": {}
      },
      "source": [
        "# Load the TensorBoard notebook extension\n",
        "%load_ext tensorboard\n",
        "\n",
        "# for auto-reloading external modules (files, etc.)\n",
        "%load_ext autoreload\n",
        "%autoreload 2\n",
        "\n",
        "# to be able to make plots inline the notebook \n",
        "# (actually no need for the colab version)\n",
        "%matplotlib inline\n",
        "\n",
        "# make plots a bit nicer\n",
        "plt.matplotlib.rcParams.update({'font.size': 18, 'font.family': 'serif'})"
      ],
      "execution_count": 0,
      "outputs": []
    },
    {
      "cell_type": "markdown",
      "metadata": {
        "colab_type": "text",
        "id": "nX_jVNqa5LLO"
      },
      "source": [
        "## Define pathes"
      ]
    },
    {
      "cell_type": "code",
      "metadata": {
        "colab_type": "code",
        "id": "rhIQyjps5KJX",
        "colab": {}
      },
      "source": [
        "# path for dataset (will be not there after end of session)\n",
        "path_data = \"./data\""
      ],
      "execution_count": 0,
      "outputs": []
    },
    {
      "cell_type": "markdown",
      "metadata": {
        "id": "Xi_ucwBXSXqm",
        "colab_type": "text"
      },
      "source": [
        "## Define device"
      ]
    },
    {
      "cell_type": "code",
      "metadata": {
        "id": "5PGrYKtZSXqn",
        "colab_type": "code",
        "outputId": "2ce0f56f-4965-42a2-994a-929c96cfb9c4",
        "colab": {
          "base_uri": "https://localhost:8080/",
          "height": 35
        }
      },
      "source": [
        "device = torch.device('cuda' if torch.cuda.is_available() else 'cpu')\n",
        "device"
      ],
      "execution_count": 0,
      "outputs": [
        {
          "output_type": "execute_result",
          "data": {
            "text/plain": [
              "device(type='cuda')"
            ]
          },
          "metadata": {
            "tags": []
          },
          "execution_count": 8
        }
      ]
    },
    {
      "cell_type": "markdown",
      "metadata": {
        "colab_type": "text",
        "id": "Q2C1j43ia-PP"
      },
      "source": [
        "## Data\n",
        "\n",
        "Using ``torchvision`` load CIFAR10."
      ]
    },
    {
      "cell_type": "markdown",
      "metadata": {
        "colab_type": "text",
        "id": "wlyVn2B1a-PS"
      },
      "source": [
        "The output of torchvision datasets are PILImage images of range [0, 1].\n",
        "We transform them to Tensors of normalized range [-1, 1].\n",
        "\n"
      ]
    },
    {
      "cell_type": "code",
      "metadata": {
        "colab_type": "code",
        "id": "BVxIG9dCa-PT",
        "outputId": "8483823e-72d9-4e0b-885e-4a857b219a9b",
        "colab": {
          "base_uri": "https://localhost:8080/",
          "height": 72
        }
      },
      "source": [
        "transform = transforms.Compose(\n",
        "    [transforms.ToTensor(),\n",
        "     transforms.Normalize((0.5, 0.5, 0.5), (0.5, 0.5, 0.5))])\n",
        "\n",
        "trainset = torchvision.datasets.CIFAR10(root=path_data, train=True,\n",
        "                                        download=True, transform=transform)\n",
        "trainloader = torch.utils.data.DataLoader(trainset, batch_size=64,\n",
        "                                          shuffle=True, num_workers=4)\n",
        "\n",
        "testset = torchvision.datasets.CIFAR10(root=path_data, train=False,\n",
        "                                       download=True, transform=transform)\n",
        "testloader = torch.utils.data.DataLoader(testset, batch_size=64,\n",
        "                                         shuffle=False, num_workers=4)\n",
        "\n",
        "classes = ('plane', 'car', 'bird', 'cat',\n",
        "           'deer', 'dog', 'frog', 'horse', 'ship', 'truck')"
      ],
      "execution_count": 0,
      "outputs": [
        {
          "output_type": "stream",
          "text": [
            "\r0it [00:00, ?it/s]"
          ],
          "name": "stderr"
        },
        {
          "output_type": "stream",
          "text": [
            "Downloading https://www.cs.toronto.edu/~kriz/cifar-10-python.tar.gz to ./data/cifar-10-python.tar.gz\n"
          ],
          "name": "stdout"
        },
        {
          "output_type": "stream",
          "text": [
            "100%|█████████▉| 170426368/170498071 [00:14<00:00, 12914972.19it/s]"
          ],
          "name": "stderr"
        },
        {
          "output_type": "stream",
          "text": [
            "Files already downloaded and verified\n"
          ],
          "name": "stdout"
        }
      ]
    },
    {
      "cell_type": "code",
      "metadata": {
        "colab_type": "code",
        "id": "Xg8U6R9V5uVv",
        "outputId": "a183e71c-e429-451a-c2f8-44457fef4c95",
        "colab": {
          "base_uri": "https://localhost:8080/",
          "height": 55
        }
      },
      "source": [
        "ls data"
      ],
      "execution_count": 0,
      "outputs": [
        {
          "output_type": "stream",
          "text": [
            "\u001b[0m\u001b[01;34mcifar-10-batches-py\u001b[0m/  cifar-10-python.tar.gz\n"
          ],
          "name": "stdout"
        }
      ]
    },
    {
      "cell_type": "markdown",
      "metadata": {
        "colab_type": "text",
        "id": "Ivm7Ir4ia-PV"
      },
      "source": [
        "Let us show some of the training images, for fun.\n",
        "\n"
      ]
    },
    {
      "cell_type": "code",
      "metadata": {
        "colab_type": "code",
        "id": "7XPfmgbxa-PW",
        "outputId": "11f35bb1-7f6d-46d4-a430-cf7afff3022d",
        "colab": {
          "base_uri": "https://localhost:8080/",
          "height": 318
        }
      },
      "source": [
        "# functions to show an image\n",
        "def imshow(img):\n",
        "    img = img / 2 + 0.5     # unnormalize\n",
        "    npimg = img.numpy()\n",
        "    plt.imshow(np.transpose(npimg, (1, 2, 0)))\n",
        "\n",
        "\n",
        "# get some random training images\n",
        "images, labels = next(iter(trainloader))\n",
        "\n",
        "# show images\n",
        "imshow(torchvision.utils.make_grid(images))\n",
        "# print labels\n",
        "print(' '.join('%5s' % classes[labels[j]] for j in range(4)))"
      ],
      "execution_count": 0,
      "outputs": [
        {
          "output_type": "stream",
          "text": [
            " ship  ship  bird horse\n"
          ],
          "name": "stdout"
        },
        {
          "output_type": "display_data",
          "data": {
            "image/png": "[encoded data removed]",
            "text/plain": [
              "<Figure size 432x288 with 1 Axes>"
            ]
          },
          "metadata": {
            "tags": []
          }
        }
      ]
    },
    {
      "cell_type": "markdown",
      "metadata": {
        "colab_type": "text",
        "id": "zkhLoOZ_a-PZ"
      },
      "source": [
        "## Define a Convolution Neural Network\n",
        "\n",
        "Copy the neural network from the Neural Networks section before and modify it to\n",
        "take 3-channel images (instead of 1-channel images as it was defined).\n",
        "\n"
      ]
    },
    {
      "cell_type": "code",
      "metadata": {
        "colab_type": "code",
        "id": "q8gra1gha-Pa",
        "outputId": "dc019600-1f96-4a89-c964-9dd128714797",
        "colab": {
          "base_uri": "https://localhost:8080/",
          "height": 35
        }
      },
      "source": [
        "import torch.nn as nn\n",
        "import torch.nn.functional as F\n",
        "\n",
        "\n",
        "class Net(nn.Module):\n",
        "    def __init__(self):\n",
        "        super(Net, self).__init__()\n",
        "        self.conv1 = nn.Conv2d(3, 6, 5)\n",
        "        self.pool = nn.MaxPool2d(2, 2)\n",
        "        self.conv2 = nn.Conv2d(6, 16, 5)\n",
        "        self.fc1 = nn.Linear(16 * 5 * 5, 120)\n",
        "        self.fc2 = nn.Linear(120, 84)\n",
        "        self.fc3 = nn.Linear(84, 10)\n",
        "\n",
        "    def forward(self, x):\n",
        "        x = self.pool(F.relu(self.conv1(x)))\n",
        "        x = self.pool(F.relu(self.conv2(x)))\n",
        "        x = x.view(-1, 16 * 5 * 5)\n",
        "        x = F.relu(self.fc1(x))\n",
        "        x = F.relu(self.fc2(x))\n",
        "        x = self.fc3(x)\n",
        "        return x\n",
        "\n",
        "\n",
        "net = Net().to(device)"
      ],
      "execution_count": 0,
      "outputs": [
        {
          "output_type": "stream",
          "text": [
            "\r170500096it [00:30, 12914972.19it/s]                               "
          ],
          "name": "stderr"
        }
      ]
    },
    {
      "cell_type": "markdown",
      "metadata": {
        "colab_type": "text",
        "id": "j_no4Mw2a-Pc"
      },
      "source": [
        "## Define a Loss function\n",
        "\n",
        "Let's use a Classification Cross-Entropy loss\n",
        "\n"
      ]
    },
    {
      "cell_type": "code",
      "metadata": {
        "colab_type": "code",
        "id": "pwPn8sHEBlBQ",
        "colab": {}
      },
      "source": [
        "criterion = nn.CrossEntropyLoss()"
      ],
      "execution_count": 0,
      "outputs": []
    },
    {
      "cell_type": "markdown",
      "metadata": {
        "colab_type": "text",
        "id": "lUqzv-gba-Pg"
      },
      "source": [
        "## Set-up training\n",
        "\n",
        "\n"
      ]
    },
    {
      "cell_type": "code",
      "metadata": {
        "colab_type": "code",
        "id": "aBxhJuMrC4uV",
        "colab": {}
      },
      "source": [
        "def train_epoch(train_loader, model, criterion, optimizer, scheduler, \n",
        "                epoch, device, log_interval, globaliter):\n",
        "\n",
        "    # switch to train mode\n",
        "    model.train()\n",
        "    \n",
        "    # adjust_learning_rate\n",
        "    if scheduler is not None:\n",
        "        scheduler.step()\n",
        "\n",
        "    for batch_idx, (input_data, target) in enumerate(train_loader):\n",
        "      \n",
        "        # TODO: do in other way (this is global batch index, for logging)\n",
        "        globaliter += 1\n",
        "      \n",
        "        # extract batch data\n",
        "        target = target.to(device)\n",
        "        input_data = input_data.to(device)\n",
        "\n",
        "        # compute output\n",
        "        output = model(input_data)\n",
        "        loss = criterion(output, target)\n",
        "        \n",
        "        # compute gradient and do optimizer step\n",
        "        optimizer.zero_grad()\n",
        "        loss.backward()\n",
        "        optimizer.step()\n",
        "\n",
        "        # logging\n",
        "        if batch_idx % log_interval == 0:\n",
        "            print('Train Epoch: {} [{}/{} ({:.0f}%)]\\tLoss: {:.6f}'.format(\n",
        "                      epoch, batch_idx * len(input_data), len(train_loader.dataset),\n",
        "                      100. * batch_idx / len(train_loader), loss.item()))\n",
        "        \n",
        "            # log loss\n",
        "            writer.add_scalar('Train/RunningLoss', loss.item(), globaliter)\n",
        "            # log LR\n",
        "            lr = scheduler.get_lr()[0]\n",
        "            writer.add_scalar('Train/LearningRate', lr, globaliter)\n",
        "    \n",
        "    return globaliter"
      ],
      "execution_count": 0,
      "outputs": []
    },
    {
      "cell_type": "markdown",
      "metadata": {
        "colab_type": "text",
        "id": "3yrC3MbX6vz7"
      },
      "source": [
        "## Logging"
      ]
    },
    {
      "cell_type": "code",
      "metadata": {
        "colab_type": "code",
        "id": "RfL_8JlU60qp",
        "colab": {}
      },
      "source": [
        "# path for dataset (will be not there after end of session)\n",
        "current_time = str(datetime.datetime.now().timestamp())\n",
        "path_log = 'logs/tensorboard/' + current_time\n",
        "\n",
        "# set-up writer\n",
        "writer = SummaryWriter(path_log)"
      ],
      "execution_count": 0,
      "outputs": []
    },
    {
      "cell_type": "code",
      "metadata": {
        "colab_type": "code",
        "id": "-_021MUtTV8f",
        "colab": {}
      },
      "source": [
        "# Model (and Images) to TensorBoard (TB)\n",
        "\n",
        "images, labels = next(iter(trainloader))\n",
        "grid = torchvision.utils.make_grid(images)\n",
        "writer.add_image('images', grid, 0)\n",
        "\n",
        "# net to TB\n",
        "writer.add_graph(net, images.to(device))"
      ],
      "execution_count": 0,
      "outputs": []
    },
    {
      "cell_type": "code",
      "metadata": {
        "colab_type": "code",
        "id": "9P6cIVdaHg6k",
        "outputId": "32bcb6ef-c525-40a4-b51d-b9eaa45cbf33",
        "colab": {
          "base_uri": "https://localhost:8080/",
          "height": 35
        }
      },
      "source": [
        "%tensorboard --logdir logs/tensorboard"
      ],
      "execution_count": 0,
      "outputs": [
        {
          "output_type": "stream",
          "text": [
            "UsageError: Line magic function `%tensorboard` not found.\n"
          ],
          "name": "stderr"
        }
      ]
    },
    {
      "cell_type": "markdown",
      "metadata": {
        "colab_type": "text",
        "id": "dzeJE-3xHcoG"
      },
      "source": [
        "## Training"
      ]
    },
    {
      "cell_type": "code",
      "metadata": {
        "id": "zowOfZT0SXrV",
        "colab_type": "code",
        "colab": {}
      },
      "source": [
        "def get_statistics(dataloader, model, device):\n",
        "    model = model.to(device)\n",
        "    model.eval()\n",
        "    \n",
        "    correct = 0\n",
        "    losses = []\n",
        "    \n",
        "    for batch_idx, (input_data, target) in enumerate(dataloader):\n",
        "\n",
        "        # extract batch data\n",
        "        target = target.to(device)\n",
        "        input_data = input_data.to(device)\n",
        "\n",
        "        # compute output\n",
        "        output = model(input_data)\n",
        "        output_klasses = torch.argmax(output, 1)\n",
        "        correct += torch.sum(output_klasses == target).item()\n",
        "        \n",
        "        loss = criterion(output, target)\n",
        "        losses.append(loss.item())    \n",
        "\n",
        "    accuracy = correct / len(dataloader.dataset)\n",
        "    mean_loss = np.mean(losses)\n",
        "    \n",
        "    return mean_loss, accuracy"
      ],
      "execution_count": 0,
      "outputs": []
    },
    {
      "cell_type": "code",
      "metadata": {
        "colab_type": "code",
        "id": "-CoGbWGaFjnz",
        "outputId": "7bc19e80-7842-4820-b9cd-1c4eef1733d4",
        "scrolled": true,
        "colab": {
          "base_uri": "https://localhost:8080/",
          "height": 548
        }
      },
      "source": [
        "# set number of epoch\n",
        "net = Net().to(device)\n",
        "\n",
        "n_epochs = 10\n",
        "\n",
        "# set-up optimizer and scheduler\n",
        "optimizer = torch.optim.SGD(net.parameters(), lr=0.001, momentum=0.9)\n",
        "scheduler = torch.optim.lr_scheduler.StepLR(optimizer,\n",
        "                                            step_size=5,\n",
        "                                            gamma=0.1)\n",
        "\n",
        "globaliter = 0\n",
        "for epoch in range(1, n_epochs + 1):\n",
        "    globaliter = train_epoch(trainloader, net, criterion, optimizer, scheduler, epoch, device, 500, globaliter)\n",
        "    \n",
        "    # Calculate loss and accuracy after epoch\n",
        "    loss, accuracy = get_statistics(trainloader, net, device) \n",
        "    test_loss, test_accuracy = get_statistics(testloader, net, device)\n",
        "    \n",
        "    # Log results\n",
        "    writer.add_scalar('Train/LossEpoch', loss, epoch)\n",
        "    writer.add_scalar('Train/AccuracyEpoch', accuracy, epoch)\n",
        "    writer.add_scalar('Test/AccuracyEpoch', test_accuracy, epoch)\n",
        "    \n",
        "    print(f'test loss: {test_loss}, train loss: {loss},  test accuracy: {test_accuracy}, train accuracy: {accuracy}')\n"
      ],
      "execution_count": 0,
      "outputs": [
        {
          "output_type": "stream",
          "text": [
            "Train Epoch: 1 [0/50000 (0%)]\tLoss: 2.301511\n",
            "Train Epoch: 1 [32000/50000 (64%)]\tLoss: 2.291866\n",
            "test loss: 2.282027783667206, train loss: 2.2828221055857667,  test accuracy: 0.1931, train accuracy: 0.18936\n",
            "Train Epoch: 2 [0/50000 (0%)]\tLoss: 2.285277\n",
            "Train Epoch: 2 [32000/50000 (64%)]\tLoss: 2.086860\n",
            "test loss: 1.9959218995586323, train loss: 2.0073998070433925,  test accuracy: 0.2799, train accuracy: 0.27476\n",
            "Train Epoch: 3 [0/50000 (0%)]\tLoss: 1.956559\n",
            "Train Epoch: 3 [32000/50000 (64%)]\tLoss: 2.038932\n",
            "test loss: 1.8015908822891817, train loss: 1.8130262843178362,  test accuracy: 0.3526, train accuracy: 0.3446\n",
            "Train Epoch: 4 [0/50000 (0%)]\tLoss: 1.850686\n",
            "Train Epoch: 4 [32000/50000 (64%)]\tLoss: 1.628139\n",
            "test loss: 1.6724947652999003, train loss: 1.680901264138234,  test accuracy: 0.3859, train accuracy: 0.38208\n",
            "Train Epoch: 5 [0/50000 (0%)]\tLoss: 1.922233\n",
            "Train Epoch: 5 [32000/50000 (64%)]\tLoss: 1.482241\n",
            "test loss: 1.6186742949637638, train loss: 1.625848905509695,  test accuracy: 0.4058, train accuracy: 0.4043\n",
            "Train Epoch: 6 [0/50000 (0%)]\tLoss: 1.679116\n",
            "Train Epoch: 6 [32000/50000 (64%)]\tLoss: 1.618904\n",
            "test loss: 1.6078520793064384, train loss: 1.6145606987616594,  test accuracy: 0.4098, train accuracy: 0.40772\n",
            "Train Epoch: 7 [0/50000 (0%)]\tLoss: 1.473471\n",
            "Train Epoch: 7 [32000/50000 (64%)]\tLoss: 1.523168\n",
            "test loss: 1.5982849203097593, train loss: 1.6034795393419388,  test accuracy: 0.414, train accuracy: 0.41442\n",
            "Train Epoch: 8 [0/50000 (0%)]\tLoss: 1.600527\n",
            "Train Epoch: 8 [32000/50000 (64%)]\tLoss: 1.528195\n",
            "test loss: 1.5841319659712967, train loss: 1.589997095982437,  test accuracy: 0.4198, train accuracy: 0.4183\n",
            "Train Epoch: 9 [0/50000 (0%)]\tLoss: 1.668900\n",
            "Train Epoch: 9 [32000/50000 (64%)]\tLoss: 1.510539\n",
            "test loss: 1.572689751151261, train loss: 1.5786346989824338,  test accuracy: 0.4228, train accuracy: 0.424\n",
            "Train Epoch: 10 [0/50000 (0%)]\tLoss: 1.382929\n",
            "Train Epoch: 10 [32000/50000 (64%)]\tLoss: 1.526372\n",
            "test loss: 1.5706700724401292, train loss: 1.5761100718432375,  test accuracy: 0.4256, train accuracy: 0.42364\n"
          ],
          "name": "stdout"
        }
      ]
    },
    {
      "cell_type": "code",
      "metadata": {
        "colab_type": "code",
        "id": "cdXvEjGcUUZU",
        "outputId": "ec7afdae-f330-46aa-d158-51ca5506104f",
        "colab": {
          "base_uri": "https://localhost:8080/",
          "height": 35
        }
      },
      "source": [
        "ls logs/tensorboard/"
      ],
      "execution_count": 0,
      "outputs": [
        {
          "output_type": "stream",
          "text": [
            "\u001b[0m\u001b[01;34m1565212777.174552\u001b[0m/\n"
          ],
          "name": "stdout"
        }
      ]
    },
    {
      "cell_type": "markdown",
      "metadata": {
        "colab_type": "text",
        "id": "VV55Y2Dna-Pk"
      },
      "source": [
        "##  Test the network on the test data\n",
        "\n",
        "\n",
        "\n"
      ]
    },
    {
      "cell_type": "code",
      "metadata": {
        "colab_type": "code",
        "id": "ckVaTVzXOP5i",
        "outputId": "d5c8e66b-3f60-4650-edc6-b099f0cb77f0",
        "colab": {
          "base_uri": "https://localhost:8080/",
          "height": 158
        }
      },
      "source": [
        "# switch to test mode\n",
        "net.eval()"
      ],
      "execution_count": 0,
      "outputs": [
        {
          "output_type": "execute_result",
          "data": {
            "text/plain": [
              "Net(\n",
              "  (conv1): Conv2d(3, 6, kernel_size=(5, 5), stride=(1, 1))\n",
              "  (pool): MaxPool2d(kernel_size=2, stride=2, padding=0, dilation=1, ceil_mode=False)\n",
              "  (conv2): Conv2d(6, 16, kernel_size=(5, 5), stride=(1, 1))\n",
              "  (fc1): Linear(in_features=400, out_features=120, bias=True)\n",
              "  (fc2): Linear(in_features=120, out_features=84, bias=True)\n",
              "  (fc3): Linear(in_features=84, out_features=10, bias=True)\n",
              ")"
            ]
          },
          "metadata": {
            "tags": []
          },
          "execution_count": 21
        }
      ]
    },
    {
      "cell_type": "code",
      "metadata": {
        "colab_type": "code",
        "id": "AKsfrBhda-Pl",
        "outputId": "2587ac82-38ac-43a1-e2e9-218062d88120",
        "colab": {
          "base_uri": "https://localhost:8080/",
          "height": 298
        }
      },
      "source": [
        "dataiter = iter(testloader)\n",
        "images, labels = dataiter.next()\n",
        "\n",
        "# print images\n",
        "imshow(torchvision.utils.make_grid(images))\n",
        "print('GroundTruth: ', ' '.join('%5s' % classes[labels[j]] for j in range(4)))"
      ],
      "execution_count": 0,
      "outputs": [
        {
          "output_type": "stream",
          "text": [
            "GroundTruth:    cat  ship  ship plane\n"
          ],
          "name": "stdout"
        },
        {
          "output_type": "display_data",
          "data": {
            "image/png": "[encoded data removed]",
            "text/plain": [
              "<Figure size 432x288 with 1 Axes>"
            ]
          },
          "metadata": {
            "tags": []
          }
        }
      ]
    },
    {
      "cell_type": "markdown",
      "metadata": {
        "colab_type": "text",
        "id": "s7fTX4aga-Pn"
      },
      "source": [
        "Okay, now let us see what the neural network thinks these examples above are:\n",
        "\n"
      ]
    },
    {
      "cell_type": "code",
      "metadata": {
        "colab_type": "code",
        "id": "gTT2vad2a-Po",
        "outputId": "185872f0-f2de-4f64-f0ee-7bcfc97d397b",
        "colab": {
          "base_uri": "https://localhost:8080/",
          "height": 35
        }
      },
      "source": [
        "outputs = net(images.to(device))\n",
        "_, predicted = torch.max(outputs, 1)\n",
        "\n",
        "print('Predicted: ', ' '.join('%5s' % classes[predicted[j]]\n",
        "                              for j in range(4)))"
      ],
      "execution_count": 0,
      "outputs": [
        {
          "output_type": "stream",
          "text": [
            "Predicted:   frog  ship  ship plane\n"
          ],
          "name": "stdout"
        }
      ]
    },
    {
      "cell_type": "markdown",
      "metadata": {
        "colab_type": "text",
        "id": "TaMhHN_ua-Pu"
      },
      "source": [
        "\n",
        "\n",
        "Let us look at how the network performs on the whole dataset.\n",
        "\n"
      ]
    },
    {
      "cell_type": "code",
      "metadata": {
        "colab_type": "code",
        "id": "u7cTtFEEa-Pu",
        "outputId": "a6e4df1e-ccd8-4b62-cb79-4057aa368601",
        "colab": {
          "base_uri": "https://localhost:8080/",
          "height": 35
        }
      },
      "source": [
        "def log_accuracy(model):\n",
        "  correct = 0\n",
        "  total = 0\n",
        "  with torch.no_grad():\n",
        "      for data in testloader:\n",
        "          images, labels = data\n",
        "          images, labels = images.to(device), labels.to(device)\n",
        "          outputs = model(images)\n",
        "          _, predicted = torch.max(outputs.data, 1)\n",
        "          total += labels.size(0)\n",
        "          correct += (predicted == labels).sum().item()\n",
        "\n",
        "  print('Accuracy of the network on the 10000 test images: %d %%' % (\n",
        "      100 * correct / total))\n",
        "  \n",
        "log_accuracy(net)"
      ],
      "execution_count": 0,
      "outputs": [
        {
          "output_type": "stream",
          "text": [
            "Accuracy of the network on the 10000 test images: 42 %\n"
          ],
          "name": "stdout"
        }
      ]
    },
    {
      "cell_type": "markdown",
      "metadata": {
        "colab_type": "text",
        "id": "74bbzYIla-Px"
      },
      "source": [
        "the classes that performed well, and the classes that did\n",
        "not perform well:\n",
        "\n"
      ]
    },
    {
      "cell_type": "code",
      "metadata": {
        "colab_type": "code",
        "id": "C5ZuNoqla-Px",
        "outputId": "de18915a-48df-45b2-c8c0-9831d4f8bc6f",
        "colab": {
          "base_uri": "https://localhost:8080/",
          "height": 194
        }
      },
      "source": [
        "def log_klasses_accuracy(model):\n",
        "  class_correct = list(0. for i in range(10))\n",
        "  class_total = list(0. for i in range(10))\n",
        "  with torch.no_grad():\n",
        "      for data in testloader:\n",
        "          images, labels = data\n",
        "          images, labels = images.to(device), labels.to(device)\n",
        "\n",
        "          outputs = model(images)\n",
        "          _, predicted = torch.max(outputs, 1)\n",
        "          c = (predicted == labels).squeeze()\n",
        "          for i in range(4):\n",
        "              label = labels[i]\n",
        "              class_correct[label] += c[i].item()\n",
        "              class_total[label] += 1\n",
        "\n",
        "\n",
        "  for i in range(10):\n",
        "      print('Accuracy of %5s : %2d %%' % (\n",
        "          classes[i], 100 * class_correct[i] / class_total[i]))\n",
        "      \n",
        "log_klasses_accuracy(net) "
      ],
      "execution_count": 0,
      "outputs": [
        {
          "output_type": "stream",
          "text": [
            "Accuracy of plane : 58 %\n",
            "Accuracy of   car : 62 %\n",
            "Accuracy of  bird : 22 %\n",
            "Accuracy of   cat : 15 %\n",
            "Accuracy of  deer : 18 %\n",
            "Accuracy of   dog : 47 %\n",
            "Accuracy of  frog : 55 %\n",
            "Accuracy of horse : 51 %\n",
            "Accuracy of  ship : 51 %\n",
            "Accuracy of truck : 44 %\n"
          ],
          "name": "stdout"
        }
      ]
    },
    {
      "cell_type": "markdown",
      "metadata": {
        "colab_type": "text",
        "id": "awWNgi8LFF-H"
      },
      "source": [
        "## Tasks"
      ]
    },
    {
      "cell_type": "code",
      "metadata": {
        "colab_type": "code",
        "id": "8QtzYVRUFIcu",
        "colab": {}
      },
      "source": [
        ""
      ],
      "execution_count": 0,
      "outputs": []
    },
    {
      "cell_type": "markdown",
      "metadata": {
        "colab_type": "text",
        "id": "RZ-M76PNFYiB"
      },
      "source": [
        "### <font color=\"red\"> **MORE Tensorboard**: </font>   \n",
        "- create separate plots with 'epoch vs. loss' (in addition to the current 'interation vs. loss')\n",
        "- create separate plots with 'epoch vs. accuracy(train)' \n",
        "- create separate plots with 'epoch vs. accuracy(test)'\n",
        "(for this create separate tag 'Test')\n",
        "\n",
        "### <font color=\"red\"> **IMPROVE THE MODEL**: </font>   \n",
        "\n",
        "Experiment and try to get the best performance that you can on CIFAR-10 using a ConvNet. Here are some ideas to get you started:\n",
        "(tips based on 'cs231n course')\n",
        "\n",
        "#### Things to try:\n",
        "- Filter size\n",
        "- Number of filters\n",
        "- Batch normalization\n",
        "- Network architecture. Some good architectures to try include:\n",
        "    - [conv-relu-pool]xN - conv - relu - [FC]xM \n",
        "    - [conv-relu-pool]XN - [FC]XM \n",
        "    - [conv-relu-conv-relu-pool]xN - [FC]xM \n",
        "\n",
        "#### Tips for training\n",
        "For each network architecture that you try, you should tune the learning rate and regularization strength. When doing this there are a couple important things to keep in mind:\n",
        "\n",
        "- If the parameters are working well, you should see improvement within a few hundred iterations\n",
        "- Remember the course-to-fine approach for hyperparameter tuning: start by testing a large range of hyperparameters for just a few training iterations to find the combinations of parameters that are working at all.\n",
        "- Once you have found some sets of parameters that seem to work, search more finely around these parameters. You may need to train for more epochs.\n",
        "\n",
        "#### Going above and beyond\n",
        "If you are feeling adventurous there are many other features you can implement to try and improve your performance. \n",
        "\n",
        "- Alternative update steps:  SGD+momentum, RMSprop, and Adam; you could try alternatives like AdaGrad or AdaDelta.\n",
        "- Alternative activation functions such as leaky ReLU, parametric ReLU, or MaxOut.\n",
        "- Model ensembles\n",
        "- Data augmentation\n",
        "\n",
        "\n",
        "#### What to expect\n",
        "At the very least, you should be able to train a ConvNet that gets at least 65% accuracy on the validation set. This is just a lower bound - if you are careful it should be possible to get accuracies much higher than that! \n",
        "\n",
        "\n",
        "###  <font color=\"red\"> **CPU vs GPU**: </font>   \n",
        "compare time of training for CPU, GPU for different models\n",
        "\n"
      ]
    },
    {
      "cell_type": "code",
      "metadata": {
        "id": "kpKTxNUq8cG4",
        "colab_type": "code",
        "outputId": "a5fef5c0-34c4-4b4c-d5b7-860c38334fcd",
        "colab": {
          "base_uri": "https://localhost:8080/",
          "height": 388
        }
      },
      "source": [
        "%%timeit -n 1 -r 1\n",
        "device = torch.device('cpu')\n",
        "net = Net().to(device)\n",
        "\n",
        "# set number of epoch\n",
        "n_epochs = 10\n",
        "\n",
        "# set-up optimizer and scheduler\n",
        "optimizer = torch.optim.SGD(net.parameters(), lr=0.01,  momentum=0.9, weight_decay=0.0001)\n",
        "scheduler = torch.optim.lr_scheduler.StepLR(optimizer, step_size=1, gamma=0.7)\n",
        "\n",
        "globaliter = 0\n",
        "for epoch in range(1, n_epochs + 1):\n",
        "    globaliter = train_epoch(trainloader, net, criterion, optimizer, scheduler, epoch, device, 500, globaliter)\n",
        "    "
      ],
      "execution_count": 0,
      "outputs": [
        {
          "output_type": "stream",
          "text": [
            "Train Epoch: 1 [0/50000 (0%)]\tLoss: 2.304645\n",
            "Train Epoch: 1 [32000/50000 (64%)]\tLoss: 1.819143\n",
            "Train Epoch: 2 [0/50000 (0%)]\tLoss: 1.583003\n",
            "Train Epoch: 2 [32000/50000 (64%)]\tLoss: 1.304092\n",
            "Train Epoch: 3 [0/50000 (0%)]\tLoss: 1.194011\n",
            "Train Epoch: 3 [32000/50000 (64%)]\tLoss: 1.130684\n",
            "Train Epoch: 4 [0/50000 (0%)]\tLoss: 1.493921\n",
            "Train Epoch: 4 [32000/50000 (64%)]\tLoss: 0.944348\n",
            "Train Epoch: 5 [0/50000 (0%)]\tLoss: 1.437835\n",
            "Train Epoch: 5 [32000/50000 (64%)]\tLoss: 1.008037\n",
            "Train Epoch: 6 [0/50000 (0%)]\tLoss: 1.082876\n",
            "Train Epoch: 6 [32000/50000 (64%)]\tLoss: 1.070548\n",
            "Train Epoch: 7 [0/50000 (0%)]\tLoss: 0.978809\n",
            "Train Epoch: 7 [32000/50000 (64%)]\tLoss: 1.133393\n",
            "Train Epoch: 8 [0/50000 (0%)]\tLoss: 1.276786\n",
            "Train Epoch: 8 [32000/50000 (64%)]\tLoss: 0.883486\n",
            "Train Epoch: 9 [0/50000 (0%)]\tLoss: 1.227064\n",
            "Train Epoch: 9 [32000/50000 (64%)]\tLoss: 0.914080\n",
            "Train Epoch: 10 [0/50000 (0%)]\tLoss: 1.081990\n",
            "Train Epoch: 10 [32000/50000 (64%)]\tLoss: 1.125034\n",
            "1 loop, best of 1: 2min 32s per loop\n"
          ],
          "name": "stdout"
        }
      ]
    },
    {
      "cell_type": "code",
      "metadata": {
        "id": "vmflvUba8haK",
        "colab_type": "code",
        "outputId": "1a45686f-f8d3-48cc-f2a7-138ca8968db6",
        "colab": {
          "base_uri": "https://localhost:8080/",
          "height": 408
        }
      },
      "source": [
        "%%timeit -n 1 -r 1\n",
        "device = torch.device('cuda')\n",
        "net = Net().to(device)\n",
        "\n",
        "# set number of epoch\n",
        "n_epochs = 10\n",
        "\n",
        "# set-up optimizer and scheduler\n",
        "optimizer = torch.optim.SGD(net.parameters(), lr=0.01,  momentum=0.9, weight_decay=0.0001)\n",
        "scheduler = torch.optim.lr_scheduler.StepLR(optimizer, step_size=1, gamma=0.7)\n",
        "\n",
        "globaliter = 0\n",
        "for epoch in range(1, n_epochs + 1):\n",
        "    globaliter = train_epoch(trainloader, net, criterion, optimizer, scheduler, epoch, device, 500, globaliter)\n",
        "    "
      ],
      "execution_count": 0,
      "outputs": [
        {
          "output_type": "stream",
          "text": [
            "Train Epoch: 1 [0/50000 (0%)]\tLoss: 2.299126\n",
            "Train Epoch: 1 [32000/50000 (64%)]\tLoss: 1.800677\n",
            "Train Epoch: 2 [0/50000 (0%)]\tLoss: 1.631932\n",
            "Train Epoch: 2 [32000/50000 (64%)]\tLoss: 1.269078\n",
            "Train Epoch: 3 [0/50000 (0%)]\tLoss: 1.544789\n",
            "Train Epoch: 3 [32000/50000 (64%)]\tLoss: 1.282754\n",
            "Train Epoch: 4 [0/50000 (0%)]\tLoss: 1.252945\n",
            "Train Epoch: 4 [32000/50000 (64%)]\tLoss: 1.449674\n",
            "Train Epoch: 5 [0/50000 (0%)]\tLoss: 1.140523\n",
            "Train Epoch: 5 [32000/50000 (64%)]\tLoss: 0.964252\n",
            "Train Epoch: 6 [0/50000 (0%)]\tLoss: 1.316677\n",
            "Train Epoch: 6 [32000/50000 (64%)]\tLoss: 1.150061\n",
            "Train Epoch: 7 [0/50000 (0%)]\tLoss: 1.046501\n",
            "Train Epoch: 7 [32000/50000 (64%)]\tLoss: 0.913443\n",
            "Train Epoch: 8 [0/50000 (0%)]\tLoss: 1.077479\n",
            "Train Epoch: 8 [32000/50000 (64%)]\tLoss: 0.938301\n",
            "Train Epoch: 9 [0/50000 (0%)]\tLoss: 0.835216\n",
            "Train Epoch: 9 [32000/50000 (64%)]\tLoss: 1.272383\n",
            "Train Epoch: 10 [0/50000 (0%)]\tLoss: 0.902949\n",
            "Train Epoch: 10 [32000/50000 (64%)]\tLoss: 1.057725\n",
            "1 loop, best of 1: 1min 25s per loop\n"
          ],
          "name": "stdout"
        }
      ]
    },
    {
      "cell_type": "markdown",
      "metadata": {
        "id": "CZ4UvhAJowIU",
        "colab_type": "text"
      },
      "source": [
        "### For this very small network we can see 2x speed boost when using gpu."
      ]
    },
    {
      "cell_type": "markdown",
      "metadata": {
        "id": "tYSUCkNtjKSP",
        "colab_type": "text"
      },
      "source": [
        "## Baseline  accuracy: 0.42 at epoch 10. Let's make some experiments to get higher accuracy.\n",
        "\n"
      ]
    },
    {
      "cell_type": "markdown",
      "metadata": {
        "id": "TrXk7Wx_hXXb",
        "colab_type": "text"
      },
      "source": [
        "## Experiment 1: Change network architecture, number of filters, add batch normalization and softmax *activation*"
      ]
    },
    {
      "cell_type": "code",
      "metadata": {
        "id": "a7fnnZj2hUb8",
        "colab_type": "code",
        "colab": {}
      },
      "source": [
        "class Net2(nn.Module):\n",
        "    def __init__(self):\n",
        "        super(Net2, self).__init__()\n",
        "        self.pool = nn.MaxPool2d(2, 2)\n",
        "        self.batch_norm1 = nn.BatchNorm2d(64)\n",
        "        self.batch_norm2 = nn.BatchNorm2d(64)\n",
        "        \n",
        "        self.batch_norm3 = nn.BatchNorm2d(128)\n",
        "        self.batch_norm4 = nn.BatchNorm2d(128)\n",
        "        self.batch_norm5 = nn.BatchNorm2d(128)\n",
        "        self.batch_norm6 = nn.BatchNorm1d(512)\n",
        "\n",
        "        \n",
        "        self.conv1 = nn.Conv2d(3, 64, 3)       \n",
        "        self.conv2 = nn.Conv2d(64, 64, 3)\n",
        "        \n",
        "        self.conv3 = nn.Conv2d(64, 128, 3)\n",
        "        self.conv4 = nn.Conv2d(128, 128, 3)\n",
        "        self.conv5 = nn.Conv2d(128, 128, 3)\n",
        "\n",
        "        self.fc1 = nn.Linear(128 * 4 * 4, 512)\n",
        "        self.fc2 = nn.Linear(512, 10)\n",
        "\n",
        "    def forward(self, x):\n",
        "        x = self.conv1(x)\n",
        "        x = self.batch_norm1(x)\n",
        "        x = F.relu(x)\n",
        "        \n",
        "        x = self.conv2(x)\n",
        "        x = self.batch_norm2(x)\n",
        "        x = F.relu(x)\n",
        "\n",
        "        \n",
        "        x = self.pool(x)\n",
        "        \n",
        "        x = self.conv3(x)\n",
        "        x = self.batch_norm3(x)\n",
        "        x = F.relu(x)\n",
        "        \n",
        "        x = self.conv4(x)\n",
        "        x = self.batch_norm4(x)\n",
        "        x = F.relu(x)\n",
        "        \n",
        "        x = self.conv5(x)\n",
        "        x = self.batch_norm5(x)\n",
        "        x = F.relu(x)\n",
        "\n",
        "        x = self.pool(x)\n",
        "\n",
        "        x = x.view(-1, 128 * 4 * 4)\n",
        "        x = self.fc1(x)\n",
        "        x = self.batch_norm6(x)\n",
        "        x = F.relu(x)\n",
        "\n",
        "        x = F.softmax(self.fc2(x), dim=1)\n",
        "        return x\n",
        "\n",
        "\n",
        "net = Net2().to(device)"
      ],
      "execution_count": 0,
      "outputs": []
    },
    {
      "cell_type": "code",
      "metadata": {
        "id": "UY27YEwrhU0z",
        "colab_type": "code",
        "outputId": "677699a7-398b-44dd-ff3d-402040185cde",
        "colab": {
          "base_uri": "https://localhost:8080/",
          "height": 548
        }
      },
      "source": [
        "# set number of epoch\n",
        "n_epochs = 10\n",
        "\n",
        "# set-up optimizer and scheduler\n",
        "optimizer = torch.optim.SGD(net.parameters(), lr=0.001, momentum=0.9)\n",
        "scheduler = torch.optim.lr_scheduler.StepLR(optimizer, step_size=5, gamma=0.1)\n",
        "\n",
        "globaliter = 0\n",
        "for epoch in range(1, n_epochs + 1):\n",
        "    globaliter = train_epoch(trainloader, net, criterion, optimizer, scheduler, epoch, device, 500, globaliter)\n",
        "    \n",
        "    # Calculate loss and accuracy after epoch\n",
        "    loss, accuracy = get_statistics(trainloader, net, device) \n",
        "    test_loss, test_accuracy = get_statistics(testloader, net, device)\n",
        "    \n",
        "    # Log results\n",
        "    print(f'test loss: {test_loss}, train loss: {loss},  test accuracy: {test_accuracy}, train accuracy: {accuracy}')\n"
      ],
      "execution_count": 0,
      "outputs": [
        {
          "output_type": "stream",
          "text": [
            "Train Epoch: 1 [0/50000 (0%)]\tLoss: 2.302632\n",
            "Train Epoch: 1 [32000/50000 (64%)]\tLoss: 2.198828\n",
            "test loss: 2.1059519705499055, train loss: 2.105813228108389,  test accuracy: 0.3807, train accuracy: 0.37886\n",
            "Train Epoch: 2 [0/50000 (0%)]\tLoss: 2.112392\n",
            "Train Epoch: 2 [32000/50000 (64%)]\tLoss: 1.927741\n",
            "test loss: 2.008093098166642, train loss: 2.005148159268567,  test accuracy: 0.489, train accuracy: 0.48788\n",
            "Train Epoch: 3 [0/50000 (0%)]\tLoss: 1.997410\n",
            "Train Epoch: 3 [32000/50000 (64%)]\tLoss: 1.933708\n",
            "test loss: 1.933888166573397, train loss: 1.9257085442238147,  test accuracy: 0.5531, train accuracy: 0.56094\n",
            "Train Epoch: 4 [0/50000 (0%)]\tLoss: 1.952847\n",
            "Train Epoch: 4 [32000/50000 (64%)]\tLoss: 1.803449\n",
            "test loss: 1.8921644634501948, train loss: 1.8796991292777878,  test accuracy: 0.5898, train accuracy: 0.60422\n",
            "Train Epoch: 5 [0/50000 (0%)]\tLoss: 1.834022\n",
            "Train Epoch: 5 [32000/50000 (64%)]\tLoss: 1.960070\n",
            "test loss: 1.872780329862218, train loss: 1.8556912689257765,  test accuracy: 0.6111, train accuracy: 0.63088\n",
            "Train Epoch: 6 [0/50000 (0%)]\tLoss: 1.933722\n",
            "Train Epoch: 6 [32000/50000 (64%)]\tLoss: 1.990766\n",
            "test loss: 1.8687196058832156, train loss: 1.8514943162498572,  test accuracy: 0.6157, train accuracy: 0.6349\n",
            "Train Epoch: 7 [0/50000 (0%)]\tLoss: 1.861049\n",
            "Train Epoch: 7 [32000/50000 (64%)]\tLoss: 1.826935\n",
            "test loss: 1.865868250275873, train loss: 1.8485282357696378,  test accuracy: 0.6209, train accuracy: 0.63862\n",
            "Train Epoch: 8 [0/50000 (0%)]\tLoss: 1.839982\n",
            "Train Epoch: 8 [32000/50000 (64%)]\tLoss: 1.798691\n",
            "test loss: 1.8624017056386182, train loss: 1.8442192754477187,  test accuracy: 0.6221, train accuracy: 0.64284\n",
            "Train Epoch: 9 [0/50000 (0%)]\tLoss: 1.866068\n",
            "Train Epoch: 9 [32000/50000 (64%)]\tLoss: 1.926762\n",
            "test loss: 1.8600310633896262, train loss: 1.840456061655908,  test accuracy: 0.6228, train accuracy: 0.64656\n",
            "Train Epoch: 10 [0/50000 (0%)]\tLoss: 1.839643\n",
            "Train Epoch: 10 [32000/50000 (64%)]\tLoss: 1.800791\n",
            "test loss: 1.8577490316075125, train loss: 1.8375297742121666,  test accuracy: 0.6247, train accuracy: 0.64898\n"
          ],
          "name": "stdout"
        }
      ]
    },
    {
      "cell_type": "code",
      "metadata": {
        "id": "FrAd86tShVPy",
        "colab_type": "code",
        "outputId": "0218cce0-1870-47b7-8629-65a3c36a9c9c",
        "colab": {
          "base_uri": "https://localhost:8080/",
          "height": 211
        }
      },
      "source": [
        "log_accuracy(net)\n",
        "log_klasses_accuracy(net) "
      ],
      "execution_count": 0,
      "outputs": [
        {
          "output_type": "stream",
          "text": [
            "Accuracy of the network on the 10000 test images: 62 %\n",
            "Accuracy of plane : 76 %\n",
            "Accuracy of   car : 88 %\n",
            "Accuracy of  bird :  0 %\n",
            "Accuracy of   cat :  0 %\n",
            "Accuracy of  deer : 54 %\n",
            "Accuracy of   dog : 79 %\n",
            "Accuracy of  frog : 82 %\n",
            "Accuracy of horse : 75 %\n",
            "Accuracy of  ship : 82 %\n",
            "Accuracy of truck : 80 %\n"
          ],
          "name": "stdout"
        }
      ]
    },
    {
      "cell_type": "markdown",
      "metadata": {
        "id": "pMmjgtXdvmEo",
        "colab_type": "text"
      },
      "source": [
        "## Received accuracy: 0.62"
      ]
    },
    {
      "cell_type": "markdown",
      "metadata": {
        "id": "7YjGQbk7morT",
        "colab_type": "text"
      },
      "source": [
        "## Experiment 2: Change learning rate, learning rate decay, momentum and optimizer"
      ]
    },
    {
      "cell_type": "code",
      "metadata": {
        "id": "2HWKvSqPk7__",
        "colab_type": "code",
        "outputId": "ef0c70b8-4964-48e2-dc6f-505134c4274b",
        "colab": {
          "base_uri": "https://localhost:8080/",
          "height": 901
        }
      },
      "source": [
        "# set number of epoch\n",
        "net = Net2().to(device)\n",
        "n_epochs = 10\n",
        "\n",
        "# set-up optimizer and scheduler\n",
        "optimizer = torch.optim.SGD(net.parameters(), lr=0.1, momentum=0.8)\n",
        "scheduler = torch.optim.lr_scheduler.StepLR(optimizer, step_size=1, gamma=0.7)\n",
        "\n",
        "globaliter = 0\n",
        "for epoch in range(1, n_epochs + 1):\n",
        "    globaliter = train_epoch(trainloader, net, criterion, optimizer, scheduler, epoch, device, 200, globaliter)\n",
        "    \n",
        "    # Calculate loss and accuracy after epoch\n",
        "    loss, accuracy = get_statistics(trainloader, net, device) \n",
        "    test_loss, test_accuracy = get_statistics(testloader, net, device)\n",
        "    \n",
        "    # Log results\n",
        "    print(f'test loss: {test_loss}, train loss: {loss},  test accuracy: {test_accuracy}, train accuracy: {accuracy}')\n"
      ],
      "execution_count": 0,
      "outputs": [
        {
          "output_type": "stream",
          "text": [
            "Train Epoch: 1 [0/50000 (0%)]\tLoss: 2.306278\n",
            "Train Epoch: 1 [12800/50000 (26%)]\tLoss: 2.048320\n",
            "Train Epoch: 1 [25600/50000 (51%)]\tLoss: 2.092875\n",
            "Train Epoch: 1 [38400/50000 (77%)]\tLoss: 1.921473\n",
            "test loss: 1.882787701430594, train loss: 1.8726124594278653,  test accuracy: 0.5792, train accuracy: 0.58928\n",
            "Train Epoch: 2 [0/50000 (0%)]\tLoss: 1.824288\n",
            "Train Epoch: 2 [12800/50000 (26%)]\tLoss: 1.846037\n",
            "Train Epoch: 2 [25600/50000 (51%)]\tLoss: 1.826981\n",
            "Train Epoch: 2 [38400/50000 (77%)]\tLoss: 1.802477\n",
            "test loss: 1.7886292357353648, train loss: 1.7692360989273053,  test accuracy: 0.675, train accuracy: 0.6951\n",
            "Train Epoch: 3 [0/50000 (0%)]\tLoss: 1.816590\n",
            "Train Epoch: 3 [12800/50000 (26%)]\tLoss: 1.698074\n",
            "Train Epoch: 3 [25600/50000 (51%)]\tLoss: 1.785017\n",
            "Train Epoch: 3 [38400/50000 (77%)]\tLoss: 1.786597\n",
            "test loss: 1.7396014435276104, train loss: 1.7166016618614002,  test accuracy: 0.7252, train accuracy: 0.75024\n",
            "Train Epoch: 4 [0/50000 (0%)]\tLoss: 1.693295\n",
            "Train Epoch: 4 [12800/50000 (26%)]\tLoss: 1.700324\n",
            "Train Epoch: 4 [25600/50000 (51%)]\tLoss: 1.778982\n",
            "Train Epoch: 4 [38400/50000 (77%)]\tLoss: 1.690183\n",
            "test loss: 1.7259230340362355, train loss: 1.695427287265163,  test accuracy: 0.7404, train accuracy: 0.7696\n",
            "Train Epoch: 5 [0/50000 (0%)]\tLoss: 1.772420\n",
            "Train Epoch: 5 [12800/50000 (26%)]\tLoss: 1.634318\n",
            "Train Epoch: 5 [25600/50000 (51%)]\tLoss: 1.631611\n",
            "Train Epoch: 5 [38400/50000 (77%)]\tLoss: 1.680512\n",
            "test loss: 1.6998292207717896, train loss: 1.6552200709157587,  test accuracy: 0.7645, train accuracy: 0.81352\n",
            "Train Epoch: 6 [0/50000 (0%)]\tLoss: 1.731896\n",
            "Train Epoch: 6 [12800/50000 (26%)]\tLoss: 1.655698\n",
            "Train Epoch: 6 [25600/50000 (51%)]\tLoss: 1.673469\n",
            "Train Epoch: 6 [38400/50000 (77%)]\tLoss: 1.684198\n",
            "test loss: 1.6931242828915833, train loss: 1.6377840040589842,  test accuracy: 0.7733, train accuracy: 0.83162\n",
            "Train Epoch: 7 [0/50000 (0%)]\tLoss: 1.635551\n",
            "Train Epoch: 7 [12800/50000 (26%)]\tLoss: 1.629618\n",
            "Train Epoch: 7 [25600/50000 (51%)]\tLoss: 1.691833\n",
            "Train Epoch: 7 [38400/50000 (77%)]\tLoss: 1.611673\n",
            "test loss: 1.6820614094946795, train loss: 1.6171032983018918,  test accuracy: 0.7831, train accuracy: 0.8523\n",
            "Train Epoch: 8 [0/50000 (0%)]\tLoss: 1.669266\n",
            "Train Epoch: 8 [12800/50000 (26%)]\tLoss: 1.626150\n",
            "Train Epoch: 8 [25600/50000 (51%)]\tLoss: 1.582412\n",
            "Train Epoch: 8 [38400/50000 (77%)]\tLoss: 1.612782\n",
            "test loss: 1.675337243991293, train loss: 1.6038748719503202,  test accuracy: 0.7893, train accuracy: 0.8659\n",
            "Train Epoch: 9 [0/50000 (0%)]\tLoss: 1.615942\n",
            "Train Epoch: 9 [12800/50000 (26%)]\tLoss: 1.667076\n",
            "Train Epoch: 9 [25600/50000 (51%)]\tLoss: 1.549278\n",
            "Train Epoch: 9 [38400/50000 (77%)]\tLoss: 1.623484\n",
            "test loss: 1.6706823983769508, train loss: 1.5938434135883361,  test accuracy: 0.7959, train accuracy: 0.87606\n",
            "Train Epoch: 10 [0/50000 (0%)]\tLoss: 1.550145\n",
            "Train Epoch: 10 [12800/50000 (26%)]\tLoss: 1.608603\n",
            "Train Epoch: 10 [25600/50000 (51%)]\tLoss: 1.659895\n",
            "Train Epoch: 10 [38400/50000 (77%)]\tLoss: 1.575688\n",
            "test loss: 1.6688989355305957, train loss: 1.5889563962931523,  test accuracy: 0.7979, train accuracy: 0.8811\n"
          ],
          "name": "stdout"
        }
      ]
    },
    {
      "cell_type": "code",
      "metadata": {
        "id": "Uj3YUFD3k8PW",
        "colab_type": "code",
        "colab": {}
      },
      "source": [
        "log_accuracy(net)\n",
        "log_klasses_accuracy(net) "
      ],
      "execution_count": 0,
      "outputs": []
    },
    {
      "cell_type": "markdown",
      "metadata": {
        "id": "G6wxTwqBvtZp",
        "colab_type": "text"
      },
      "source": [
        "## Received accuracy: 0.79\n"
      ]
    },
    {
      "cell_type": "markdown",
      "metadata": {
        "id": "E0AQ46Yasnfu",
        "colab_type": "text"
      },
      "source": [
        "## Experiment 3: Data augmentation\n"
      ]
    },
    {
      "cell_type": "code",
      "metadata": {
        "id": "oHRNIYzMte-b",
        "colab_type": "code",
        "colab": {}
      },
      "source": [
        "# Took constants from https://github.com/kuangliu/pytorch-cifar/issues/19\n",
        "NORMALIZATION_MEAN, NORMALIZATION_STD = (0.4914, 0.4822, 0.4465), (0.2023, 0.1994, 0.2010)\n",
        "\n",
        "train_transform = transforms.Compose([\n",
        "#     transforms.RandomCrop(32, padding=4),\n",
        "    transforms.ColorJitter(brightness=0.05, contrast=0.05, saturation=0.05),\n",
        "    transforms.RandomHorizontalFlip(p=0.5),\n",
        "    transforms.ToTensor(),\n",
        "    transforms.Normalize(NORMALIZATION_MEAN, NORMALIZATION_STD),\n",
        "])\n",
        "\n",
        "test_transform = transforms.Compose([\n",
        "    transforms.ToTensor(),\n",
        "    transforms.Normalize(NORMALIZATION_MEAN, NORMALIZATION_STD),\n",
        "])\n",
        "\n",
        "\n",
        "trainset = torchvision.datasets.CIFAR10(root=path_data, train=True, download=False, transform=train_transform)\n",
        "trainloader = torch.utils.data.DataLoader(trainset, batch_size=64, shuffle=True, num_workers=4)\n",
        "\n",
        "\n",
        "testset = torchvision.datasets.CIFAR10(root=path_data, train=False, download=False, transform=test_transform)\n",
        "testloader = torch.utils.data.DataLoader(testset, batch_size=64, shuffle=False, num_workers=4)\n",
        "\n"
      ],
      "execution_count": 0,
      "outputs": []
    },
    {
      "cell_type": "code",
      "metadata": {
        "id": "1X1jTcHSpdvS",
        "colab_type": "code",
        "colab": {}
      },
      "source": [
        "\n",
        "# set number of epoch\n",
        "net = Net2().to(device)\n",
        "n_epochs = 10\n",
        "\n",
        "# set-up optimizer and scheduler\n",
        "optimizer = torch.optim.SGD(net.parameters(), lr=0.1,  momentum=0.8)\n",
        "scheduler = torch.optim.lr_scheduler.StepLR(optimizer, step_size=1, gamma=0.7)\n",
        "\n",
        "globaliter = 0\n",
        "for epoch in range(1, n_epochs + 1):\n",
        "    globaliter = train_epoch(trainloader, net, criterion, optimizer, scheduler, epoch, device, 200, globaliter)\n",
        "    \n",
        "    # Calculate loss and accuracy after epoch\n",
        "    loss, accuracy = get_statistics(trainloader, net, device) \n",
        "    test_loss, test_accuracy = get_statistics(testloader, net, device)\n",
        "    \n",
        "    # Log results\n",
        "    print(f'test loss: {test_loss}, train loss: {loss},  test accuracy: {test_accuracy}, train accuracy: {accuracy}')\n"
      ],
      "execution_count": 0,
      "outputs": []
    },
    {
      "cell_type": "code",
      "metadata": {
        "id": "KymNiaAb4tnT",
        "colab_type": "code",
        "colab": {}
      },
      "source": [
        "log_accuracy(net)\n",
        "log_klasses_accuracy(net) "
      ],
      "execution_count": 0,
      "outputs": []
    },
    {
      "cell_type": "markdown",
      "metadata": {
        "id": "L4gFsv2ayHrf",
        "colab_type": "text"
      },
      "source": [
        "## Received accuracy: 0.8  (Model still struggles to learn cats )"
      ]
    },
    {
      "cell_type": "markdown",
      "metadata": {
        "id": "2ox6t4OfGGs8",
        "colab_type": "text"
      },
      "source": [
        "## Experiment 4: Use pretrained network"
      ]
    },
    {
      "cell_type": "code",
      "metadata": {
        "id": "5IaKsalYpeMn",
        "colab_type": "code",
        "colab": {}
      },
      "source": [
        "class ResNet18(nn.Module):\n",
        "    '''\n",
        "    Last fully connected layer changed to ouput EMBEDDINGS_SIZE-dim vector.\n",
        "    '''\n",
        "    \n",
        "    def __init__(self):\n",
        "        super(ResNet18, self).__init__()\n",
        "        self.model = models.resnet18(pretrained=True)\n",
        "        self.model.fc = nn.Linear(in_features=512, out_features=10, bias=True)\n",
        "\n",
        "    def forward(self, image):\n",
        "        features = self.model(image)\n",
        "        return features\n",
        "\n",
        "\n",
        "net = ResNet18().to(device)"
      ],
      "execution_count": 0,
      "outputs": []
    },
    {
      "cell_type": "code",
      "metadata": {
        "id": "IdknGYkZpear",
        "colab_type": "code",
        "colab": {}
      },
      "source": [
        "# set number of epoch\n",
        "n_epochs = 10\n",
        "\n",
        "# set-up optimizer and scheduler\n",
        "optimizer = torch.optim.SGD(net.parameters(), lr=0.01,  momentum=0.9, weight_decay=0.0001)\n",
        "scheduler = torch.optim.lr_scheduler.StepLR(optimizer, step_size=1, gamma=0.7)\n",
        "\n",
        "globaliter = 0\n",
        "for epoch in range(1, n_epochs + 1):\n",
        "    globaliter = train_epoch(trainloader, net, criterion, optimizer, scheduler, epoch, device, 200, globaliter)\n",
        "    \n",
        "    # Calculate loss and accuracy after epoch\n",
        "    loss, accuracy = get_statistics(trainloader, net, device) \n",
        "    test_loss, test_accuracy = get_statistics(testloader, net, device)\n",
        "    \n",
        "    # Log results\n",
        "    print(f'test loss: {test_loss}, train loss: {loss},  test accuracy: {test_accuracy}, train accuracy: {accuracy}')\n"
      ],
      "execution_count": 0,
      "outputs": []
    },
    {
      "cell_type": "code",
      "metadata": {
        "id": "7UrQer6_k82q",
        "colab_type": "code",
        "colab": {}
      },
      "source": [
        "log_accuracy(net)\n",
        "log_klasses_accuracy(net) "
      ],
      "execution_count": 0,
      "outputs": []
    },
    {
      "cell_type": "markdown",
      "metadata": {
        "id": "Ifp67wPoIxZN",
        "colab_type": "text"
      },
      "source": [
        "## Received accuracy: 0.85 (model is too complex, it overfitted on train dataset)"
      ]
    }
  ]
}